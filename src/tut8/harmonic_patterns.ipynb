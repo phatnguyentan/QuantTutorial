{
 "cells": [
  {
   "cell_type": "markdown",
   "metadata": {},
   "source": [
    "# Golden Ratio\n",
    "```\n",
    "1.618\n",
    "0,1,1,2,3,5,8,13,221,34,55,89,144,233,377\n",
    "3/2 = 1.5\n",
    "8/5 = 1.6\n",
    "55/34 = 1.617\n",
    "377/233 = 1.618\n",
    "```"
   ]
  },
  {
   "cell_type": "markdown",
   "metadata": {},
   "source": [
    "# Fibonacci Retracement\n",
    "# Direction Change Algorithm\n",
    "Finds tops/bottoms after price has retraced by a given percentage. Time between tops/bottoms is not consider.\n",
    "Harmonic Pattern  do not consider the time between tops/bottoms\n"
   ]
  },
  {
   "cell_type": "code",
   "execution_count": 2,
   "metadata": {},
   "outputs": [],
   "source": [
    "import pandas as pd\n",
    "import numpy as np\n",
    "import matplotlib.pyplot as plt\n",
    "import mplfinance as mpf\n",
    "import scipy\n",
    "from directional_change import directional_change, get_extremes\n",
    "from dataclasses import dataclass\n",
    "from typing import Union\n",
    "from math import log"
   ]
  },
  {
   "cell_type": "code",
   "execution_count": 3,
   "metadata": {},
   "outputs": [],
   "source": [
    "@dataclass\n",
    "class XABCD:\n",
    "    XA_AB: Union[float, list, None]\n",
    "    AB_BC: Union[float, list, None]\n",
    "    BC_CD: Union[float, list, None]\n",
    "    XA_AD: Union[float, list, None]\n",
    "    name: str"
   ]
  },
  {
   "cell_type": "code",
   "execution_count": 4,
   "metadata": {},
   "outputs": [],
   "source": [
    "# Define Patterns\n",
    "GARTLEY = XABCD(0.618, [0.382, 0.886], [1.13, 1.618], 0.786, \"Gartley\")\n",
    "BAT = XABCD([0.382, 0.50], [0.382, 0.886], [1.618, 2.618], 0.886, \"Bat\")\n",
    "#ALT_BAT = XABCD(0.382, [0.382, 0.886], [2.0, 3.618], 1.13, \"Alt Bat\")\n",
    "BUTTERFLY = XABCD(0.786, [0.382, 0.886], [1.618, 2.24], [1.27, 1.41], \"Butterfly\")\n",
    "CRAB = XABCD([0.382, 0.618], [0.382, 0.886], [2.618, 3.618], 1.618, \"Crab\")\n",
    "DEEP_CRAB = XABCD(0.886, [0.382, 0.886], [2.0, 3.618], 1.618, \"Deep Crab\")\n",
    "CYPHER = XABCD([0.382, 0.618], [1.13, 1.41], [1.27, 2.00], 0.786, \"Cypher\")\n",
    "SHARK = XABCD(None, [1.13, 1.618], [1.618, 2.24], [0.886, 1.13], \"Shark\")\n",
    "ALL_PATTERNS = [GARTLEY, BAT, BUTTERFLY, CRAB, DEEP_CRAB, CYPHER, SHARK]"
   ]
  },
  {
   "cell_type": "code",
   "execution_count": null,
   "metadata": {},
   "outputs": [],
   "source": [
    "@dataclass\n",
    "class XABCDFound:\n",
    "    X: int\n",
    "    A: int\n",
    "    B: int\n",
    "    C: int\n",
    "    D: int # Index of last point in pattern, the entry is on the close of D\n",
    "    error: float # Error found\n",
    "    name: str\n",
    "    bull: bool"
   ]
  },
  {
   "cell_type": "code",
   "execution_count": null,
   "metadata": {},
   "outputs": [],
   "source": [
    "def plot_pattern(ohlc: pd.DataFrame, pat: XABCDFound, pad=3):\n",
    "    idx = ohlc.index\n",
    "    data = ohlc.iloc[pat.X - pad: pat.D + 1 + pad]\n",
    "\n",
    "    plt.style.use('dark_background')\n",
    "    fig = plt.gcf()\n",
    "    ax = fig.gca()\n",
    "\n",
    "    if pat.bull:\n",
    "        s1 = ohlc['low'].to_numpy()\n",
    "        s2 = ohlc['high'].to_numpy()\n",
    "    else:\n",
    "        s2 = ohlc['low'].to_numpy()\n",
    "        s1 = ohlc['high'].to_numpy()\n",
    "        \n",
    "\n",
    "    l0 = [(idx[pat.X], s1[pat.X]), (idx[pat.A], s2[pat.A])]\n",
    "    l1 = [(idx[pat.A], s2[pat.A]), (idx[pat.B], s1[pat.B])]\n",
    "    l2 = [(idx[pat.B], s1[pat.B]), (idx[pat.C], s2[pat.C])]\n",
    "    l3 = [(idx[pat.C], s2[pat.C]), (idx[pat.D], s1[pat.D])]\n",
    "    \n",
    "    # Connecting lines\n",
    "    l4 = [(idx[pat.A], s2[pat.A]), (idx[pat.C], s2[pat.C])]\n",
    "    l5 = [(idx[pat.B], s1[pat.B]), (idx[pat.D], s1[pat.D])]\n",
    "    l6 = [(idx[pat.X], s1[pat.X]), (idx[pat.B], s1[pat.B])]\n",
    "    l7 = [(idx[pat.X], s1[pat.X]), (idx[pat.D], s1[pat.D])]\n",
    "\n",
    "    mpf.plot(\n",
    "        data, \n",
    "        alines=dict(alines=[l0, l1, l2, l3, l4, l5, l6, l7 ], colors=['w', 'w', 'w', 'w', 'b', 'b', 'b', 'b']),\n",
    "        type='candle', style='charles', ax=ax\n",
    "    )\n",
    "    \n",
    "    # Text\n",
    "    xa_ab =  abs(s2[pat.A] - s1[pat.B]) / abs(s1[pat.X] - s2[pat.A])\n",
    "    ab_bc =  abs(s1[pat.B] - s2[pat.C]) / abs(s2[pat.A] - s1[pat.B])\n",
    "    bc_cd =  abs(s2[pat.C] - s1[pat.D]) / abs(s1[pat.B] - s2[pat.C])\n",
    "    xa_ad =  abs(s2[pat.A] - s1[pat.D]) / abs(s1[pat.X] - s2[pat.A])\n",
    "    ax.text(int((pat.X + pat.B) / 2) - pat.X + pad, (s1[pat.X] + s1[pat.B]) / 2 , str(round(xa_ab, 3)), color='orange', fontsize='x-large')\n",
    "    ax.text(int((pat.A + pat.C) / 2) - pat.X + pad, (s2[pat.A] + s2[pat.C]) / 2 , str(round(ab_bc, 3)), color='orange', fontsize='x-large')\n",
    "    ax.text(int((pat.B + pat.D) / 2) - pat.X + pad, (s1[pat.B] + s1[pat.D]) / 2 , str(round(bc_cd, 3)), color='orange', fontsize='x-large')\n",
    "    ax.text(int((pat.X + pat.D) / 2) - pat.X + pad, (s1[pat.X] + s1[pat.D]) / 2 , str(round(xa_ad, 3)), color='orange', fontsize='x-large')\n",
    "    \n",
    "    desc_string = pat.name\n",
    "    desc_string += \"\\nError: \" + str(round(pat.error , 5))\n",
    "    if pat.bull:\n",
    "        plt_price = data['high'].max() - 0.05 * (data['high'].max() - data['low'].min())\n",
    "    else:\n",
    "        plt_price = data['low'].min() + 0.05 * (data['high'].max() - data['low'].min())\n",
    "    ax.text(0, plt_price , desc_string, color='yellow', fontsize='x-large')\n",
    "    plt.show()"
   ]
  }
 ],
 "metadata": {
  "kernelspec": {
   "display_name": "Python 3",
   "language": "python",
   "name": "python3"
  },
  "language_info": {
   "codemirror_mode": {
    "name": "ipython",
    "version": 3
   },
   "file_extension": ".py",
   "mimetype": "text/x-python",
   "name": "python",
   "nbconvert_exporter": "python",
   "pygments_lexer": "ipython3",
   "version": "3.10.8"
  }
 },
 "nbformat": 4,
 "nbformat_minor": 2
}
